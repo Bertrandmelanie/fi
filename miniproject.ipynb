{
 "cells": [
  {
   "cell_type": "code",
   "execution_count": null,
   "metadata": {},
   "outputs": [],
   "source": []
  },
  {
   "cell_type": "code",
   "execution_count": 1,
   "metadata": {},
   "outputs": [
    {
     "name": "stdout",
     "output_type": "stream",
     "text": [
      "-------------\n",
      "|   |   |   |\n",
      "-------------\n",
      "|   |   |   |\n",
      "-------------\n",
      "|   |   |   |\n",
      "-------------\n"
     ]
    }
   ],
   "source": [
    "# Tic Tac Toe Game\n",
    "\n",
    "\n",
    "board = [' '] * 9\n",
    "current_player = 'X'\n",
    "\n",
    "\n",
    "def display_board():\n",
    "    print('-------------')\n",
    "    print('|', board[0], '|', board[1], '|', board[2], '|')\n",
    "    print('-------------')\n",
    "    print('|', board[3], '|', board[4], '|', board[5], '|')\n",
    "    print('-------------')\n",
    "    print('|', board[6], '|', board[7], '|', board[8], '|')\n",
    "    print('-------------')\n",
    "\n",
    "\n",
    "def player_input(John):\n",
    "    position = input(f\"{John}'s turn. Choose a position (1-9): \")\n",
    "    while not position.isdigit() or int(position) < 1 or int(position) > 9 or board[int(position) - 1] != ' ':\n",
    "        position = input(\"Invalid input. Choose a position (1-9): \")\n",
    "    return int(position) - 1\n",
    "\n",
    "\n",
    "def check_win():\n",
    "    \n",
    "    for i in range(0, 9, 3):\n",
    "        if board[i] == board[i + 1] == board[i + 2] != ' ':\n",
    "            return True\n",
    "\n",
    "    \n",
    "    for i in range(3):\n",
    "        if board[i] == board[i + 3] == board[i + 6] != ' ':\n",
    "            return True\n",
    "\n",
    "    \n",
    "    if board[0] == board[4] == board[8] != ' ':\n",
    "        return True\n",
    "    if board[2] == board[4] == board[6] != ' ':\n",
    "        return True\n",
    "\n",
    "    return False\n",
    "\n",
    "\n",
    "def play():\n",
    "    global current_player\n",
    "\n",
    "    display_board()\n",
    "\n",
    "    while True:\n",
    "        position = player_input(current_player)\n",
    "        board[position] = current_player\n",
    "        display_board()\n",
    "\n",
    "        if check_win():\n",
    "            print(f\"Player {current_player} you win!\")\n",
    "            break\n",
    "\n",
    "        if ' ' not in board:\n",
    "            print(\"It's a tie!\")\n",
    "            break\n",
    "\n",
    "        current_player = 'O' if current_player == 'X' else 'X'\n",
    "\n",
    "\n",
    "play()\n",
    "\n",
    "\n"
   ]
  }
 ],
 "metadata": {
  "kernelspec": {
   "display_name": "Python 3",
   "language": "python",
   "name": "python3"
  },
  "language_info": {
   "codemirror_mode": {
    "name": "ipython",
    "version": 3
   },
   "file_extension": ".py",
   "mimetype": "text/x-python",
   "name": "python",
   "nbconvert_exporter": "python",
   "pygments_lexer": "ipython3",
   "version": "3.10.11"
  },
  "orig_nbformat": 4
 },
 "nbformat": 4,
 "nbformat_minor": 2
}
