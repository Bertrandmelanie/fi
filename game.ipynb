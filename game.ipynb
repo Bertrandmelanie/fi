{
 "cells": [
  {
   "cell_type": "code",
   "execution_count": 6,
   "metadata": {},
   "outputs": [],
   "source": [
    "import random\n",
    "class Game:\n",
    "    def get_user_item(self):\n",
    "        while True:\n",
    "            user_item = input(\"Enter your move (rock/paper/scissors): \").lower()\n",
    "            if user_item in ['rock', 'paper', 'scissors']:\n",
    "                return user_item\n",
    "            else:\n",
    "                print(\"Invalid input! Please try again.\")\n"
   ]
  },
  {
   "cell_type": "code",
   "execution_count": 7,
   "metadata": {},
   "outputs": [],
   "source": [
    "def get_computer_item(self):\n",
    "        computer_item = random.choice(['rock', 'paper', 'scissors'])\n",
    "        return computer_item\n"
   ]
  },
  {
   "cell_type": "code",
   "execution_count": 8,
   "metadata": {},
   "outputs": [],
   "source": [
    "def get_game_result(self, user_item, computer_item):\n",
    "        if user_item == computer_item:\n",
    "            return 'draw'\n",
    "        elif (user_item == 'rock' and computer_item == 'scissors') or \\\n",
    "             (user_item == 'paper' and computer_item == 'rock') or \\\n",
    "             (user_item == 'scissors' and computer_item == 'paper'):\n",
    "            return 'win'\n",
    "        else:\n",
    "            return 'loss'"
   ]
  },
  {
   "cell_type": "code",
   "execution_count": 9,
   "metadata": {},
   "outputs": [],
   "source": [
    "def play(self):\n",
    "        user_item = self.get_user_item()\n",
    "        computer_item = self.get_computer_item()\n",
    "        result = self.get_game_result(user_item, computer_item)\n",
    "        \n",
    "        print(\"You selected {}. The computer selected {}.\".format(user_item, computer_item))\n",
    "        if result == 'win':\n",
    "            print(\"You win!\")\n",
    "        elif result == 'draw':\n",
    "            print(\"It's a draw!\")\n",
    "        else:\n",
    "            print(\"You lose!\")\n",
    "        \n",
    "        return result"
   ]
  }
 ],
 "metadata": {
  "kernelspec": {
   "display_name": "Python 3",
   "language": "python",
   "name": "python3"
  },
  "language_info": {
   "codemirror_mode": {
    "name": "ipython",
    "version": 3
   },
   "file_extension": ".py",
   "mimetype": "text/x-python",
   "name": "python",
   "nbconvert_exporter": "python",
   "pygments_lexer": "ipython3",
   "version": "3.10.11"
  },
  "orig_nbformat": 4
 },
 "nbformat": 4,
 "nbformat_minor": 2
}
